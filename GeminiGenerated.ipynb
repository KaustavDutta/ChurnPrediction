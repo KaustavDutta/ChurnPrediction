{
 "cells": [
  {
   "cell_type": "code",
   "execution_count": 1,
   "id": "8af50a6c-0424-4276-8cfb-0db9e8fc40bc",
   "metadata": {},
   "outputs": [
    {
     "name": "stdout",
     "output_type": "stream",
     "text": [
      "sagemaker.config INFO - Not applying SDK defaults from location: /etc/xdg/sagemaker/config.yaml\n",
      "sagemaker.config INFO - Not applying SDK defaults from location: /home/sagemaker-user/.config/sagemaker/config.yaml\n"
     ]
    }
   ],
   "source": [
    "# Import necessary libraries\n",
    "import pandas as pd\n",
    "import numpy as np\n",
    "import matplotlib.pyplot as plt\n",
    "import seaborn as sns\n",
    "from sklearn.model_selection import train_test_split\n",
    "from sklearn.preprocessing import LabelEncoder, StandardScaler, OneHotEncoder\n",
    "from sklearn.compose import ColumnTransformer\n",
    "from sklearn.pipeline import Pipeline # Not strictly used for final SM model but good for local\n",
    "from sklearn.metrics import accuracy_score, confusion_matrix, classification_report, roc_auc_score, roc_curve\n",
    "import xgboost as xgb # For local model training and understanding\n",
    "\n",
    "# SageMaker specific imports\n",
    "import sagemaker\n",
    "import boto3\n",
    "from sagemaker.xgboost.estimator import XGBoost as SageMakerXGBoost # Alias to avoid confusion\n",
    "from sagemaker.serializers import CSVSerializer\n",
    "from sagemaker.deserializers import CSVDeserializer\n",
    "import os # For joining paths\n",
    "import time # For unique endpoint names"
   ]
  },
  {
   "cell_type": "code",
   "execution_count": 2,
   "id": "34849977-ba30-4578-ac63-12d1ec5cd366",
   "metadata": {},
   "outputs": [
    {
     "name": "stdout",
     "output_type": "stream",
     "text": [
      "Data loaded successfully.\n",
      "Initial dataset shape: (7043, 21)\n"
     ]
    }
   ],
   "source": [
    "try:\n",
    "    df = pd.read_csv('telco-customer-churn.csv')\n",
    "    print(\"Data loaded successfully.\")\n",
    "    print(f\"Initial dataset shape: {df.shape}\")\n",
    "except FileNotFoundError:\n",
    "    print(\"Error: 'telco-customer-churn.csv' not found. Make sure the file is in the correct directory.\")\n",
    "    exit()\n",
    "except Exception as e:\n",
    "    print(f\"Error loading data: {e}\")\n",
    "    exit()"
   ]
  },
  {
   "cell_type": "code",
   "execution_count": 3,
   "id": "256e8e12-2f6f-40b4-ac47-b933d672c29c",
   "metadata": {},
   "outputs": [
    {
     "name": "stdout",
     "output_type": "stream",
     "text": [
      "\n",
      "Missing values in 'TotalCharges' after conversion to numeric: 11\n"
     ]
    }
   ],
   "source": [
    "df['TotalCharges'] = pd.to_numeric(df['TotalCharges'], errors='coerce')\n",
    "print(f\"\\nMissing values in 'TotalCharges' after conversion to numeric: {df['TotalCharges'].isnull().sum()}\")"
   ]
  },
  {
   "cell_type": "code",
   "execution_count": 4,
   "id": "77b6cf8f-dd0d-4879-8f11-bf5f33daa599",
   "metadata": {},
   "outputs": [
    {
     "name": "stdout",
     "output_type": "stream",
     "text": [
      "Dropped 'customerID' column.\n"
     ]
    }
   ],
   "source": [
    "if 'customerID' in df.columns:\n",
    "    df.drop('customerID', axis=1, inplace=True)\n",
    "    print(\"Dropped 'customerID' column.\")"
   ]
  },
  {
   "cell_type": "code",
   "execution_count": 5,
   "id": "5e8df774-545b-4cf9-845d-808d84168bdc",
   "metadata": {},
   "outputs": [
    {
     "name": "stdout",
     "output_type": "stream",
     "text": [
      "Imputed missing 'TotalCharges' with median: 1397.475\n",
      "Missing values in 'TotalCharges' after imputation: 0\n"
     ]
    },
    {
     "name": "stderr",
     "output_type": "stream",
     "text": [
      "/tmp/ipykernel_139/3626736219.py:5: FutureWarning: A value is trying to be set on a copy of a DataFrame or Series through chained assignment using an inplace method.\n",
      "The behavior will change in pandas 3.0. This inplace method will never work because the intermediate object on which we are setting values always behaves as a copy.\n",
      "\n",
      "For example, when doing 'df[col].method(value, inplace=True)', try using 'df.method({col: value}, inplace=True)' or df[col] = df[col].method(value) instead, to perform the operation inplace on the original object.\n",
      "\n",
      "\n",
      "  df['TotalCharges'].fillna(median_total_charges, inplace=True)\n"
     ]
    }
   ],
   "source": [
    "if df['TotalCharges'].isnull().any():\n",
    "    median_total_charges = df[df['tenure'] > 0]['TotalCharges'].median() # Median from customers with tenure\n",
    "    if pd.isna(median_total_charges) and df['TotalCharges'].isnull().sum() > 0 : # if all are new customers\n",
    "         median_total_charges = 0 # Fallback if all tenures are 0 or only NaNs exist\n",
    "    df['TotalCharges'].fillna(median_total_charges, inplace=True)\n",
    "    print(f\"Imputed missing 'TotalCharges' with median: {median_total_charges}\")\n",
    "print(f\"Missing values in 'TotalCharges' after imputation: {df['TotalCharges'].isnull().sum()}\")"
   ]
  },
  {
   "cell_type": "code",
   "execution_count": 6,
   "id": "6bc8299f-e6e7-419b-b3b9-ad65406fb7b7",
   "metadata": {},
   "outputs": [
    {
     "name": "stdout",
     "output_type": "stream",
     "text": [
      "'Churn' column encoded to numerical (0 and 1).\n"
     ]
    }
   ],
   "source": [
    "if 'Churn' in df.columns:\n",
    "    if df['Churn'].dtype == 'object': # Check if it needs encoding\n",
    "        label_encoder_churn = LabelEncoder()\n",
    "        df['Churn'] = label_encoder_churn.fit_transform(df['Churn'])\n",
    "        print(\"'Churn' column encoded to numerical (0 and 1).\")\n",
    "        # To see the mapping: print(dict(zip(label_encoder_churn.classes_, label_encoder_churn.transform(label_encoder_churn.classes_))))\n",
    "else:\n",
    "    print(\"Error: 'Churn' column not found. Cannot proceed with target encoding.\")\n",
    "    exit()"
   ]
  },
  {
   "cell_type": "code",
   "execution_count": 7,
   "id": "2ea6ce98-2c0f-4584-b81c-002140122517",
   "metadata": {},
   "outputs": [
    {
     "name": "stdout",
     "output_type": "stream",
     "text": [
      "\n",
      "Numerical features identified for preprocessing: ['SeniorCitizen', 'tenure', 'MonthlyCharges', 'TotalCharges']\n",
      "Categorical features identified for preprocessing: ['gender', 'Partner', 'Dependents', 'PhoneService', 'MultipleLines', 'InternetService', 'OnlineSecurity', 'OnlineBackup', 'DeviceProtection', 'TechSupport', 'StreamingTV', 'StreamingMovies', 'Contract', 'PaperlessBilling', 'PaymentMethod']\n"
     ]
    }
   ],
   "source": [
    "X_features_df = df.drop('Churn', axis=1, errors='ignore') # errors='ignore' if Churn was already dropped or not present\n",
    "numerical_features = X_features_df.select_dtypes(include=np.number).columns.tolist()\n",
    "categorical_features = X_features_df.select_dtypes(include='object').columns.tolist()\n",
    "\n",
    "print(\"\\nNumerical features identified for preprocessing:\", numerical_features)\n",
    "print(\"Categorical features identified for preprocessing:\", categorical_features)"
   ]
  },
  {
   "cell_type": "code",
   "execution_count": 8,
   "id": "0562b695-67ba-405f-9fc1-b979e23a64be",
   "metadata": {},
   "outputs": [],
   "source": [
    "X = df.drop('Churn', axis=1)\n",
    "y = df['Churn']"
   ]
  },
  {
   "cell_type": "code",
   "execution_count": 9,
   "id": "3fbfc864-3d5f-43aa-a517-55c3fff5ebd8",
   "metadata": {},
   "outputs": [
    {
     "name": "stdout",
     "output_type": "stream",
     "text": [
      "\n",
      "Training set shape: X_train=(5634, 19), y_train=(5634,)\n",
      "Test set shape: X_test=(1409, 19), y_test=(1409,)\n"
     ]
    }
   ],
   "source": [
    "X_train, X_test, y_train, y_test = train_test_split(X, y, test_size=0.2, random_state=42, stratify=y)\n",
    "print(f\"\\nTraining set shape: X_train={X_train.shape}, y_train={y_train.shape}\")\n",
    "print(f\"Test set shape: X_test={X_test.shape}, y_test={y_test.shape}\")"
   ]
  },
  {
   "cell_type": "code",
   "execution_count": 10,
   "id": "a8edd426-7459-45b3-b5a4-180c4c69f2fc",
   "metadata": {},
   "outputs": [
    {
     "name": "stdout",
     "output_type": "stream",
     "text": [
      "\n",
      "Shape of X_train_processed: (5634, 30)\n",
      "Shape of X_test_processed: (1409, 30)\n",
      "\n",
      "Created DataFrames from processed data with feature names.\n"
     ]
    }
   ],
   "source": [
    "# Create preprocessing pipelines for numerical and categorical features\n",
    "# Numerical features: Scaling\n",
    "numerical_transformer = StandardScaler()\n",
    "# Categorical features: One-Hot Encoding\n",
    "categorical_transformer = OneHotEncoder(handle_unknown='ignore', drop='first', sparse_output=False) # drop='first' to avoid multicollinearity\n",
    "\n",
    "# Create a ColumnTransformer to apply transformations\n",
    "# Ensure feature lists are correct and exist in X_train\n",
    "current_numerical_features = [col for col in numerical_features if col in X_train.columns]\n",
    "current_categorical_features = [col for col in categorical_features if col in X_train.columns]\n",
    "\n",
    "preprocessor = ColumnTransformer(\n",
    "    transformers=[\n",
    "        ('num', numerical_transformer, current_numerical_features),\n",
    "        ('cat', categorical_transformer, current_categorical_features)\n",
    "    ],\n",
    "    remainder='passthrough' # Keep any columns not specified (should ideally be none)\n",
    ")\n",
    "\n",
    "# Apply preprocessing: fit on training data, transform both train and test\n",
    "X_train_processed = preprocessor.fit_transform(X_train)\n",
    "X_test_processed = preprocessor.transform(X_test)\n",
    "\n",
    "print(f\"\\nShape of X_train_processed: {X_train_processed.shape}\")\n",
    "print(f\"Shape of X_test_processed: {X_test_processed.shape}\")\n",
    "\n",
    "# Get feature names after one-hot encoding (for DataFrame conversion and interpretability)\n",
    "try:\n",
    "    feature_names_out = preprocessor.get_feature_names_out()\n",
    "except AttributeError: # Fallback for older scikit-learn versions\n",
    "    ohe_feature_names = preprocessor.named_transformers_['cat'].get_feature_names_out(current_categorical_features)\n",
    "    feature_names_out = current_numerical_features + list(ohe_feature_names)\n",
    "    # If remainder='passthrough' and there are remaining columns, their names need to be added.\n",
    "    # This part can be complex if 'remainder' columns are present and not handled explicitly.\n",
    "\n",
    "# Convert processed arrays back to DataFrames (optional, but good for local XGBoost and inspection)\n",
    "if 'feature_names_out' in locals() and feature_names_out is not None and len(feature_names_out) == X_train_processed.shape[1]:\n",
    "    X_train_processed_df = pd.DataFrame(X_train_processed, columns=feature_names_out)\n",
    "    X_test_processed_df = pd.DataFrame(X_test_processed, columns=feature_names_out)\n",
    "    print(\"\\nCreated DataFrames from processed data with feature names.\")\n",
    "else: # Fallback if feature names are tricky to get or mismatch\n",
    "    X_train_processed_df = pd.DataFrame(X_train_processed)\n",
    "    X_test_processed_df = pd.DataFrame(X_test_processed)\n",
    "    print(\"\\nCreated DataFrames from processed data (generic column names due to feature name issue).\")"
   ]
  },
  {
   "cell_type": "code",
   "execution_count": 11,
   "id": "9888b2d8-1a53-4959-bcdc-ccc50d13cce2",
   "metadata": {},
   "outputs": [
    {
     "name": "stdout",
     "output_type": "stream",
     "text": [
      "\n",
      "--- Model Training (XGBoost - Local) ---\n",
      "\n",
      "Local XGBoost Model Evaluation:\n",
      "Accuracy: 0.7821\n",
      "ROC AUC Score: 0.8166\n",
      "Confusion Matrix:\n",
      " [[905 130]\n",
      " [177 197]]\n",
      "Classification Report:\n",
      "               precision    recall  f1-score   support\n",
      "\n",
      "           0       0.84      0.87      0.85      1035\n",
      "           1       0.60      0.53      0.56       374\n",
      "\n",
      "    accuracy                           0.78      1409\n",
      "   macro avg       0.72      0.70      0.71      1409\n",
      "weighted avg       0.77      0.78      0.78      1409\n",
      "\n"
     ]
    },
    {
     "name": "stderr",
     "output_type": "stream",
     "text": [
      "/opt/conda/lib/python3.12/site-packages/xgboost/core.py:158: UserWarning: [14:03:07] WARNING: /home/conda/feedstock_root/build_artifacts/xgboost-split_1744329020674/work/src/learner.cc:740: \n",
      "Parameters: { \"use_label_encoder\" } are not used.\n",
      "\n",
      "  warnings.warn(smsg, UserWarning)\n"
     ]
    },
    {
     "data": {
      "text/plain": [
       "<matplotlib.legend.Legend at 0x7fb524e8dee0>"
      ]
     },
     "execution_count": 11,
     "metadata": {},
     "output_type": "execute_result"
    },
    {
     "data": {
      "image/png": "[encoded data removed]",
      "text/plain": [
       "<Figure size 800x600 with 1 Axes>"
      ]
     },
     "metadata": {},
     "output_type": "display_data"
    }
   ],
   "source": [
    "# --- 4. Model Training (XGBoost - Local for demonstration and quick validation) ---\n",
    "print(\"\\n--- Model Training (XGBoost - Local) ---\")\n",
    "# For newer XGBoost versions (>=1.0), use_label_encoder=False is recommended.\n",
    "# If you have an older XGBoost, you might need to set it to True or remove it.\n",
    "local_xgb_model = xgb.XGBClassifier(\n",
    "    objective='binary:logistic',\n",
    "    eval_metric='logloss', # Common for binary classification\n",
    "    random_state=42,\n",
    "    use_label_encoder=False if int(xgb.__version__.split('.')[0]) >= 1 else True\n",
    ")\n",
    "\n",
    "local_xgb_model.fit(X_train_processed_df, y_train)\n",
    "\n",
    "# Make predictions on the local test set\n",
    "y_pred_local = local_xgb_model.predict(X_test_processed_df)\n",
    "y_pred_proba_local = local_xgb_model.predict_proba(X_test_processed_df)[:, 1] # Probabilities for the positive class\n",
    "\n",
    "# Evaluate the local model\n",
    "print(\"\\nLocal XGBoost Model Evaluation:\")\n",
    "print(f\"Accuracy: {accuracy_score(y_test, y_pred_local):.4f}\")\n",
    "print(f\"ROC AUC Score: {roc_auc_score(y_test, y_pred_proba_local):.4f}\")\n",
    "print(\"Confusion Matrix:\\n\", confusion_matrix(y_test, y_pred_local))\n",
    "print(\"Classification Report:\\n\", classification_report(y_test, y_pred_local))\n",
    "\n",
    "# Plot ROC Curve for the local model\n",
    "fpr, tpr, _ = roc_curve(y_test, y_pred_proba_local)\n",
    "plt.figure(figsize=(8, 6))\n",
    "plt.plot(fpr, tpr, label=f'Local XGBoost (AUC = {roc_auc_score(y_test, y_pred_proba_local):.2f})')\n",
    "plt.plot([0, 1], [0, 1], 'k--') # Dashed diagonal\n",
    "plt.xlabel('False Positive Rate')\n",
    "plt.ylabel('True Positive Rate')\n",
    "plt.title('ROC Curve (Local XGBoost)')\n",
    "plt.legend()\n",
    "# plt.show()"
   ]
  },
  {
   "cell_type": "code",
   "execution_count": 22,
   "id": "d809a9be-6d56-4b06-ba55-3f1563ac6306",
   "metadata": {},
   "outputs": [
    {
     "name": "stdout",
     "output_type": "stream",
     "text": [
      "\n",
      "--- SageMaker Setup and Training ---\n",
      "SageMaker Role ARN: arn:aws:iam::730335564373:role/cfst-4216-972cf14964d2c97283-SageMakerExecutionRole-C8lSH67KkFhM\n",
      "SageMaker S3 Bucket: sagemaker-us-east-1-730335564373\n",
      "AWS Region: us-east-1\n",
      "\n",
      "Prepared 'sagemaker_xgboost_train.csv' for SageMaker training.\n"
     ]
    },
    {
     "name": "stderr",
     "output_type": "stream",
     "text": [
      "INFO:sagemaker.image_uris:Ignoring unnecessary instance type: None.\n",
      "INFO:sagemaker.telemetry.telemetry_logging:SageMaker Python SDK will collect telemetry to help us better understand our user's needs, diagnose issues, and deliver additional features.\n",
      "To opt out of telemetry, please disable via TelemetryOptOut parameter in SDK defaults config. For more information, refer to https://sagemaker.readthedocs.io/en/stable/overview.html#configuring-and-using-defaults-with-the-sagemaker-python-sdk.\n",
      "INFO:sagemaker:Creating training-job with name: sagemaker-xgboost-2025-05-19-14-50-36-567\n"
     ]
    },
    {
     "name": "stdout",
     "output_type": "stream",
     "text": [
      "Training data uploaded to S3: s3://sagemaker-us-east-1-730335564373/sagemaker/telco-churn-xgboost-demo/train/sagemaker_xgboost_train.csv\n",
      "\n",
      "Starting SageMaker XGBoost training job... This may take several minutes.\n",
      "2025-05-19 14:50:36 Starting - Starting the training job...\n",
      "2025-05-19 14:51:03 Starting - Preparing the instances for training...\n",
      "2025-05-19 14:51:22 Downloading - Downloading input data......\n",
      "2025-05-19 14:52:13 Downloading - Downloading the training image....\u001b[34m[2025-05-19 14:53:15.596 ip-10-2-67-156.ec2.internal:6 INFO utils.py:28] RULE_JOB_STOP_SIGNAL_FILENAME: None\u001b[0m\n",
      "\u001b[34m[2025-05-19 14:53:15.621 ip-10-2-67-156.ec2.internal:6 INFO profiler_config_parser.py:111] User has disabled profiler.\u001b[0m\n",
      "\u001b[34m[2025-05-19:14:53:16:INFO] Imported framework sagemaker_xgboost_container.training\u001b[0m\n",
      "\u001b[34m[2025-05-19:14:53:16:INFO] No GPUs detected (normal if no gpus installed)\u001b[0m\n",
      "\u001b[34m[2025-05-19:14:53:16:INFO] Running XGBoost Sagemaker in algorithm mode\u001b[0m\n",
      "\u001b[34m[2025-05-19:14:53:16:INFO] Determined 0 GPU(s) available on the instance.\u001b[0m\n",
      "\u001b[34m[2025-05-19:14:53:16:INFO] Determined delimiter of CSV input is ','\u001b[0m\n",
      "\u001b[34m[2025-05-19:14:53:16:INFO] File path /opt/ml/input/data/train of input files\u001b[0m\n",
      "\u001b[34m[2025-05-19:14:53:16:INFO] Making smlinks from folder /opt/ml/input/data/train to folder /tmp/sagemaker_xgboost_input_data\u001b[0m\n",
      "\u001b[34m[2025-05-19:14:53:16:INFO] creating symlink between Path /opt/ml/input/data/train/sagemaker_xgboost_train.csv and destination /tmp/sagemaker_xgboost_input_data/sagemaker_xgboost_train.csv-516205773753821912\u001b[0m\n",
      "\u001b[34m[2025-05-19:14:53:16:INFO] files path: /tmp/sagemaker_xgboost_input_data\u001b[0m\n",
      "\u001b[34m[2025-05-19:14:53:16:INFO] Determined delimiter of CSV input is ','\u001b[0m\n",
      "\u001b[34m[2025-05-19:14:53:16:INFO] Single node training.\u001b[0m\n",
      "\u001b[34m[2025-05-19:14:53:16:INFO] Train matrix has 5634 rows and 30 columns\u001b[0m\n",
      "\u001b[34m[2025-05-19 14:53:16.122 ip-10-2-67-156.ec2.internal:6 INFO json_config.py:92] Creating hook from json_config at /opt/ml/input/config/debughookconfig.json.\u001b[0m\n",
      "\u001b[34m[2025-05-19 14:53:16.122 ip-10-2-67-156.ec2.internal:6 INFO hook.py:206] tensorboard_dir has not been set for the hook. SMDebug will not be exporting tensorboard summaries.\u001b[0m\n",
      "\u001b[34m[2025-05-19 14:53:16.123 ip-10-2-67-156.ec2.internal:6 INFO hook.py:259] Saving to /opt/ml/output/tensors\u001b[0m\n",
      "\u001b[34m[2025-05-19 14:53:16.123 ip-10-2-67-156.ec2.internal:6 INFO state_store.py:77] The checkpoint config file /opt/ml/input/config/checkpointconfig.json does not exist.\u001b[0m\n",
      "\u001b[34m[2025-05-19:14:53:16:INFO] Debug hook created from config\u001b[0m\n",
      "\u001b[34m[0]#011train-rmse:0.43391\u001b[0m\n",
      "\u001b[34m[2025-05-19 14:53:16.148 ip-10-2-67-156.ec2.internal:6 INFO hook.py:427] Monitoring the collections: metrics\u001b[0m\n",
      "\u001b[34m[2025-05-19 14:53:16.151 ip-10-2-67-156.ec2.internal:6 INFO hook.py:491] Hook is writing from the hook with pid: 6\u001b[0m\n",
      "\u001b[34m[1]#011train-rmse:0.39512\u001b[0m\n",
      "\u001b[34m[2]#011train-rmse:0.37149\u001b[0m\n",
      "\u001b[34m[3]#011train-rmse:0.35803\u001b[0m\n",
      "\u001b[34m[4]#011train-rmse:0.34910\u001b[0m\n",
      "\u001b[34m[5]#011train-rmse:0.34372\u001b[0m\n",
      "\u001b[34m[6]#011train-rmse:0.33848\u001b[0m\n",
      "\u001b[34m[7]#011train-rmse:0.33351\u001b[0m\n",
      "\u001b[34m[8]#011train-rmse:0.32902\u001b[0m\n",
      "\u001b[34m[9]#011train-rmse:0.32700\u001b[0m\n",
      "\u001b[34m[10]#011train-rmse:0.32422\u001b[0m\n",
      "\u001b[34m[11]#011train-rmse:0.32186\u001b[0m\n",
      "\u001b[34m[12]#011train-rmse:0.32034\u001b[0m\n",
      "\u001b[34m[13]#011train-rmse:0.31872\u001b[0m\n",
      "\u001b[34m[14]#011train-rmse:0.31609\u001b[0m\n",
      "\u001b[34m[15]#011train-rmse:0.31552\u001b[0m\n",
      "\u001b[34m[16]#011train-rmse:0.31380\u001b[0m\n",
      "\u001b[34m[17]#011train-rmse:0.31133\u001b[0m\n",
      "\u001b[34m[18]#011train-rmse:0.30788\u001b[0m\n",
      "\u001b[34m[19]#011train-rmse:0.30578\u001b[0m\n",
      "\u001b[34m[20]#011train-rmse:0.30540\u001b[0m\n",
      "\u001b[34m[21]#011train-rmse:0.30422\u001b[0m\n",
      "\u001b[34m[22]#011train-rmse:0.30085\u001b[0m\n",
      "\u001b[34m[23]#011train-rmse:0.29936\u001b[0m\n",
      "\u001b[34m[24]#011train-rmse:0.29809\u001b[0m\n",
      "\u001b[34m[25]#011train-rmse:0.29523\u001b[0m\n",
      "\u001b[34m[26]#011train-rmse:0.29426\u001b[0m\n",
      "\u001b[34m[27]#011train-rmse:0.29307\u001b[0m\n",
      "\u001b[34m[28]#011train-rmse:0.29144\u001b[0m\n",
      "\u001b[34m[29]#011train-rmse:0.29100\u001b[0m\n",
      "\u001b[34m[30]#011train-rmse:0.28970\u001b[0m\n",
      "\u001b[34m[31]#011train-rmse:0.28896\u001b[0m\n",
      "\u001b[34m[32]#011train-rmse:0.28766\u001b[0m\n",
      "\u001b[34m[33]#011train-rmse:0.28672\u001b[0m\n",
      "\u001b[34m[34]#011train-rmse:0.28510\u001b[0m\n",
      "\u001b[34m[35]#011train-rmse:0.28244\u001b[0m\n",
      "\u001b[34m[36]#011train-rmse:0.28104\u001b[0m\n",
      "\u001b[34m[37]#011train-rmse:0.28016\u001b[0m\n",
      "\u001b[34m[38]#011train-rmse:0.27867\u001b[0m\n",
      "\u001b[34m[39]#011train-rmse:0.27607\u001b[0m\n",
      "\u001b[34m[40]#011train-rmse:0.27488\u001b[0m\n",
      "\u001b[34m[41]#011train-rmse:0.27306\u001b[0m\n",
      "\u001b[34m[42]#011train-rmse:0.27205\u001b[0m\n",
      "\u001b[34m[43]#011train-rmse:0.27133\u001b[0m\n",
      "\u001b[34m[44]#011train-rmse:0.27012\u001b[0m\n",
      "\u001b[34m[45]#011train-rmse:0.26899\u001b[0m\n",
      "\u001b[34m[46]#011train-rmse:0.26706\u001b[0m\n",
      "\u001b[34m[47]#011train-rmse:0.26668\u001b[0m\n",
      "\u001b[34m[48]#011train-rmse:0.26525\u001b[0m\n",
      "\u001b[34m[49]#011train-rmse:0.26471\u001b[0m\n",
      "\u001b[34m[50]#011train-rmse:0.26345\u001b[0m\n",
      "\u001b[34m[51]#011train-rmse:0.26237\u001b[0m\n",
      "\u001b[34m[52]#011train-rmse:0.26084\u001b[0m\n",
      "\u001b[34m[53]#011train-rmse:0.25861\u001b[0m\n",
      "\u001b[34m[54]#011train-rmse:0.25783\u001b[0m\n",
      "\u001b[34m[55]#011train-rmse:0.25664\u001b[0m\n",
      "\u001b[34m[56]#011train-rmse:0.25361\u001b[0m\n",
      "\u001b[34m[57]#011train-rmse:0.25277\u001b[0m\n",
      "\u001b[34m[58]#011train-rmse:0.25144\u001b[0m\n",
      "\u001b[34m[59]#011train-rmse:0.25035\u001b[0m\n",
      "\u001b[34m[60]#011train-rmse:0.24904\u001b[0m\n",
      "\u001b[34m[61]#011train-rmse:0.24857\u001b[0m\n",
      "\u001b[34m[62]#011train-rmse:0.24803\u001b[0m\n",
      "\u001b[34m[63]#011train-rmse:0.24730\u001b[0m\n",
      "\u001b[34m[64]#011train-rmse:0.24677\u001b[0m\n",
      "\u001b[34m[65]#011train-rmse:0.24632\u001b[0m\n",
      "\u001b[34m[66]#011train-rmse:0.24506\u001b[0m\n",
      "\u001b[34m[67]#011train-rmse:0.24446\u001b[0m\n",
      "\u001b[34m[68]#011train-rmse:0.24429\u001b[0m\n",
      "\u001b[34m[69]#011train-rmse:0.24356\u001b[0m\n",
      "\u001b[34m[70]#011train-rmse:0.24203\u001b[0m\n",
      "\u001b[34m[71]#011train-rmse:0.23989\u001b[0m\n",
      "\u001b[34m[72]#011train-rmse:0.23811\u001b[0m\n",
      "\u001b[34m[73]#011train-rmse:0.23679\u001b[0m\n",
      "\u001b[34m[74]#011train-rmse:0.23540\u001b[0m\n",
      "\u001b[34m[75]#011train-rmse:0.23452\u001b[0m\n",
      "\u001b[34m[76]#011train-rmse:0.23208\u001b[0m\n",
      "\u001b[34m[77]#011train-rmse:0.23017\u001b[0m\n",
      "\u001b[34m[78]#011train-rmse:0.22897\u001b[0m\n",
      "\u001b[34m[79]#011train-rmse:0.22820\u001b[0m\n",
      "\u001b[34m[80]#011train-rmse:0.22691\u001b[0m\n",
      "\u001b[34m[81]#011train-rmse:0.22514\u001b[0m\n",
      "\u001b[34m[82]#011train-rmse:0.22376\u001b[0m\n",
      "\u001b[34m[83]#011train-rmse:0.22332\u001b[0m\n",
      "\u001b[34m[84]#011train-rmse:0.22254\u001b[0m\n",
      "\u001b[34m[85]#011train-rmse:0.22139\u001b[0m\n",
      "\u001b[34m[86]#011train-rmse:0.22081\u001b[0m\n",
      "\u001b[34m[87]#011train-rmse:0.22024\u001b[0m\n",
      "\u001b[34m[88]#011train-rmse:0.21916\u001b[0m\n",
      "\u001b[34m[89]#011train-rmse:0.21722\u001b[0m\n",
      "\u001b[34m[90]#011train-rmse:0.21700\u001b[0m\n",
      "\u001b[34m[91]#011train-rmse:0.21684\u001b[0m\n",
      "\u001b[34m[92]#011train-rmse:0.21534\u001b[0m\n",
      "\u001b[34m[93]#011train-rmse:0.21451\u001b[0m\n",
      "\u001b[34m[94]#011train-rmse:0.21403\u001b[0m\n",
      "\u001b[34m[95]#011train-rmse:0.21289\u001b[0m\n",
      "\u001b[34m[96]#011train-rmse:0.21156\u001b[0m\n",
      "\u001b[34m[97]#011train-rmse:0.21135\u001b[0m\n",
      "\u001b[34m[98]#011train-rmse:0.21069\u001b[0m\n",
      "\u001b[34m[99]#011train-rmse:0.21008\u001b[0m\n",
      "\n",
      "2025-05-19 14:53:37 Training - Training image download completed. Training in progress.\n",
      "2025-05-19 14:53:37 Uploading - Uploading generated training model\n",
      "2025-05-19 14:53:37 Completed - Training job completed\n",
      "Training seconds: 135\n",
      "Billable seconds: 135\n",
      "SageMaker training job completed.\n"
     ]
    }
   ],
   "source": [
    "print(\"\\n--- SageMaker Setup and Training ---\")\n",
    "sagemaker_execution_successful = False\n",
    "sagemaker_predictor = None\n",
    "sagemaker_endpoint_name = None\n",
    "\n",
    "sagemaker_session = sagemaker.Session()\n",
    "# IAM role for SageMaker to access AWS resources (e.g., S3)\n",
    "# This is typically automatically configured in a SageMaker notebook environment.\n",
    "role = sagemaker.get_execution_role()\n",
    "bucket = sagemaker_session.default_bucket()  # SageMaker's default S3 bucket\n",
    "region = sagemaker_session.boto_region_name\n",
    "\n",
    "print(f\"SageMaker Role ARN: {role}\")\n",
    "print(f\"SageMaker S3 Bucket: {bucket}\")\n",
    "print(f\"AWS Region: {region}\")\n",
    "# Prepare data for SageMaker's built-in XGBoost algorithm\n",
    "# It expects CSV format with the target variable in the first column and no headers.\n",
    "# We use the processed numpy arrays (X_train_processed, X_test_processed) for this.\n",
    "# Training data: Concatenate y_train (target) and X_train_processed (features)\n",
    "# Ensure y_train is a column vector for concatenation\n",
    "train_data_sagemaker_np = np.concatenate((y_train.values.reshape(-1, 1), X_train_processed), axis=1)\n",
    "# For testing the deployed endpoint, we'll use the preprocessed test features (X_test_processed)\n",
    "# This numpy array will be serialized to CSV by the predictor.\n",
    "test_features_sagemaker_np = X_test_processed  # This is what the endpoint will expect\n",
    "\n",
    "# Define file names for S3 upload\n",
    "train_file_s3 = 'sagemaker_xgboost_train.csv'\n",
    "# test_features_file_s3 = 'sagemaker_xgboost_test_features.csv' # Not uploaded, used for local predictor test\n",
    "\n",
    "# Save the training data to a local CSV file first\n",
    "pd.DataFrame(train_data_sagemaker_np).to_csv(train_file_s3, header=False, index=False)\n",
    "print(f\"\\nPrepared '{train_file_s3}' for SageMaker training.\")\n",
    "\n",
    "# Upload training data to S3\n",
    "s3_prefix = 'sagemaker/telco-churn-xgboost-demo'  # Define a prefix in your S3 bucket\n",
    "s3_train_data_path = sagemaker_session.upload_data(path=train_file_s3, bucket=bucket, key_prefix=os.path.join(s3_prefix, 'train'))\n",
    "print(f\"Training data uploaded to S3: {s3_train_data_path}\")\n",
    "\n",
    "# Define SageMaker XGBoost Estimator\n",
    "# Ensure the XGBoost container version is compatible and available in your AWS region.\n",
    "# Check AWS SageMaker documentation for the latest supported versions.\n",
    "xgboost_container_version = '1.7-1'  # Example version, verify its availability\n",
    "sagemaker_xgboost_image_uri = sagemaker.image_uris.retrieve(\n",
    "        framework='xgboost',\n",
    "        region=region,\n",
    "        version=xgboost_container_version\n",
    "    )\n",
    "\n",
    "\n",
    "# S3 path for model artifacts\n",
    "output_s3_path = f's3://{bucket}/{s3_prefix}/output'\n",
    "\n",
    "# Instantiate the SageMaker XGBoost estimator\n",
    "sm_xgb_estimator = SageMakerXGBoost(\n",
    "    entry_point='',  # Not needed for SageMaker's built-in algorithms\n",
    "    image_uri=sagemaker_xgboost_image_uri,\n",
    "    role=role,\n",
    "    instance_count=1,\n",
    "    instance_type='ml.m5.large',  # Choose an appropriate instance type for training\n",
    "    framework_version=\"1.7-1\",\n",
    "    output_path=output_s3_path,\n",
    "    sagemaker_session=sagemaker_session,\n",
    "    hyperparameters={  # These are examples, tune them for your specific dataset\n",
    "        'num_round': 100,    # Number of boosting rounds (trees)\n",
    "    }\n",
    ")\n",
    "\n",
    "# Define training input configuration\n",
    "s3_training_input = sagemaker.inputs.TrainingInput(\n",
    "    s3_data=s3_train_data_path,\n",
    "    distribution='FullyReplicated',  # Data is copied to each training instance\n",
    "    content_type='text/csv',        # Format of the input data\n",
    "    s3_data_type='S3Prefix'         # S3 URI points to a prefix\n",
    ")\n",
    "\n",
    "print(\"\\nStarting SageMaker XGBoost training job... This may take several minutes.\")\n",
    "sm_xgb_estimator.fit({'train': s3_training_input})\n",
    "print(\"SageMaker training job completed.\")"
   ]
  },
  {
   "cell_type": "code",
   "execution_count": null,
   "id": "df5e2ef0-2a74-4054-9654-ab1e10aaad1e",
   "metadata": {},
   "outputs": [],
   "source": []
  }
 ],
 "metadata": {
  "kernelspec": {
   "display_name": "Python 3 (ipykernel)",
   "language": "python",
   "name": "python3"
  },
  "language_info": {
   "codemirror_mode": {
    "name": "ipython",
    "version": 3
   },
   "file_extension": ".py",
   "mimetype": "text/x-python",
   "name": "python",
   "nbconvert_exporter": "python",
   "pygments_lexer": "ipython3",
   "version": "3.12.9"
  }
 },
 "nbformat": 4,
 "nbformat_minor": 5
}
