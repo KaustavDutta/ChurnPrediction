{
 "cells": [
  {
   "cell_type": "code",
   "execution_count": 6,
   "id": "10149e32-9455-4245-9b37-74e4522bcc01",
   "metadata": {},
   "outputs": [
    {
     "name": "stdout",
     "output_type": "stream",
     "text": [
      "Note: you may need to restart the kernel to use updated packages.\n",
      "Note: you may need to restart the kernel to use updated packages.\n"
     ]
    }
   ],
   "source": [
    "%pip install --upgrade pip -q\n",
    "%pip install sagemaker-core -q"
   ]
  },
  {
   "cell_type": "code",
   "execution_count": 8,
   "id": "b269cc7b-f727-4acd-9496-4e8e719163bc",
   "metadata": {},
   "outputs": [
    {
     "name": "stdout",
     "output_type": "stream",
     "text": [
      "AWS region: us-east-1\n",
      "Execution role: arn:aws:iam::975050210426:role/cfst-4216-d8276b3f555b1be591-SageMakerExecutionRole-LmCb9apjk8dX\n",
      "Default S3 bucket: sagemaker-us-east-1-975050210426\n",
      "Default S3 bucket prefix: None\n"
     ]
    }
   ],
   "source": [
    "import time\n",
    "import sagemaker\n",
    "\n",
    "from sagemaker_core.helper.session_helper import Session, get_execution_role\n",
    "\n",
    "# Set up region, role and bucket parameters used throughout the notebook.\n",
    "sagemaker_session = Session()\n",
    "region = sagemaker_session.boto_region_name\n",
    "role = get_execution_role()\n",
    "bucket = sagemaker.Session().default_bucket()\n",
    "default_bucket_prefix = sagemaker.Session().default_bucket_prefix\n",
    "\n",
    "print(f\"AWS region: {region}\")\n",
    "print(f\"Execution role: {role}\")\n",
    "print(f\"Default S3 bucket: {bucket}\")\n",
    "print(f\"Default S3 bucket prefix: {default_bucket_prefix}\")"
   ]
  },
  {
   "cell_type": "code",
   "execution_count": 9,
   "id": "bfad47e6-21b7-4329-9694-41bb7bb6835c",
   "metadata": {},
   "outputs": [],
   "source": [
    "import pandas as pd\n",
    "\n",
    "# Load the dataset from S3\n",
    "s3_key = 'telco-customer-churn.csv'\n",
    "dataset_url = f's3://{bucket}/{s3_key}'\n",
    "\n",
    "df = pd.read_csv(dataset_url)\n",
    "print(df.head())"
   ]
  },
  {
   "cell_type": "code",
   "execution_count": 14,
   "id": "6f7d4695-1c7a-40cd-a481-25eb5e4ac7f6",
   "metadata": {},
   "outputs": [
    {
     "name": "stdout",
     "output_type": "stream",
     "text": [
      "   customerID  gender  SeniorCitizen  Partner  Dependents    tenure  \\\n",
      "0  7590-VHVEG       0              0        1           0 -1.280248   \n",
      "1  5575-GNVDE       1              0        0           0  0.064303   \n",
      "2  3668-QPYBK       1              0        0           0 -1.239504   \n",
      "3  7795-CFOCW       1              0        0           0  0.512486   \n",
      "4  9237-HQITU       0              0        0           0 -1.239504   \n",
      "\n",
      "   PhoneService     MultipleLines InternetService OnlineSecurity  ...  \\\n",
      "0             0  No phone service             DSL             No  ...   \n",
      "1             1                No             DSL            Yes  ...   \n",
      "2             1                No             DSL            Yes  ...   \n",
      "3             0  No phone service             DSL            Yes  ...   \n",
      "4             1                No     Fiber optic             No  ...   \n",
      "\n",
      "  DeviceProtection TechSupport StreamingTV StreamingMovies        Contract  \\\n",
      "0               No          No          No              No  Month-to-month   \n",
      "1              Yes          No          No              No        One year   \n",
      "2               No          No          No              No  Month-to-month   \n",
      "3              Yes         Yes          No              No        One year   \n",
      "4               No          No          No              No  Month-to-month   \n",
      "\n",
      "  PaperlessBilling              PaymentMethod MonthlyCharges  TotalCharges  \\\n",
      "0                1           Electronic check      -1.161694     -0.994194   \n",
      "1                0               Mailed check      -0.260878     -0.173740   \n",
      "2                1               Mailed check      -0.363923     -0.959649   \n",
      "3                0  Bank transfer (automatic)      -0.747850     -0.195248   \n",
      "4                1           Electronic check       0.196178     -0.940457   \n",
      "\n",
      "   Churn  \n",
      "0      0  \n",
      "1      0  \n",
      "2      1  \n",
      "3      0  \n",
      "4      1  \n",
      "\n",
      "[5 rows x 21 columns]\n"
     ]
    }
   ],
   "source": [
    "print(df.head())"
   ]
  },
  {
   "cell_type": "code",
   "execution_count": 10,
   "id": "9b8e1934-0f7a-41be-9f41-ee533fb53f7b",
   "metadata": {},
   "outputs": [],
   "source": [
    "from sklearn.model_selection import train_test_split\n",
    "from sklearn.preprocessing import StandardScaler, LabelEncoder\n",
    "\n",
    "# Handle missing values\n",
    "df = df.dropna()\n",
    "\n",
    "# Encode categorical variables\n",
    "df['gender'] = LabelEncoder().fit_transform(df['gender'])\n",
    "df['Partner'] = LabelEncoder().fit_transform(df['Partner'])\n",
    "df['Dependents'] = LabelEncoder().fit_transform(df['Dependents'])\n",
    "df['PhoneService'] = LabelEncoder().fit_transform(df['PhoneService'])\n",
    "df['PaperlessBilling'] = LabelEncoder().fit_transform(df['PaperlessBilling'])\n",
    "df['Churn'] = LabelEncoder().fit_transform(df['Churn'])\n",
    "\n",
    "df['TotalCharges'] = pd.to_numeric(df['TotalCharges'], errors='coerce')\n",
    "df = df.dropna(subset=['TotalCharges'])  # Remove rows where conversion failed\n",
    "\n",
    "# Scale numerical features\n",
    "scaler = StandardScaler()\n",
    "df[['tenure', 'MonthlyCharges', 'TotalCharges']] = scaler.fit_transform(df[['tenure', 'MonthlyCharges', 'TotalCharges']])\n",
    "\n",
    "# Split the data into training and testing sets\n",
    "X = df.drop('Churn', axis=1)\n",
    "y = df['Churn']\n",
    "X_train, X_test, y_train, y_test = train_test_split(X, y, test_size=0.2, random_state=42)"
   ]
  },
  {
   "cell_type": "code",
   "execution_count": 17,
   "id": "d4b9a33a-335f-4d7c-8e08-39013e54bd89",
   "metadata": {},
   "outputs": [],
   "source": [
    "container = sagemaker.image_uris.retrieve(\"xgboost\", sagemaker_session.boto_region_name, \"1.5-1\")\n",
    "\n",
    "op_url = f's3://{bucket}/output'\n",
    "\n",
    "sess = sagemaker.Session()\n",
    "\n",
    "xgb = sagemaker.estimator.Estimator(\n",
    "    container,\n",
    "    role,\n",
    "    instance_count=1,\n",
    "    instance_type=\"ml.m5.xlarge\",\n",
    "    output_path=op_url,\n",
    "    sagemaker_session=sess,\n",
    ")\n",
    "xgb.set_hyperparameters(\n",
    "    eval_metric=\"auc\",\n",
    "    max_depth=5,\n",
    "    objective=\"binary:logistic\",\n",
    "    num_round=10,\n",
    ")\n",
    "\n",
    "from sagemaker.tuner import (\n",
    "    ContinuousParameter,\n",
    "    HyperparameterTuner,\n",
    ")\n",
    "\n",
    "# https://docs.aws.amazon.com/sagemaker/latest/dg/xgboost_hyperparameters.html\n",
    "# Setting up Hyperparamters and job\n",
    "\n",
    "objective_metric_name = \"validation:auc\"\n",
    "\n",
    "\n",
    "hyperparameter_ranges = {\n",
    "    \"alpha\": ContinuousParameter(0.01, 10, scaling_type=\"Logarithmic\"),\n",
    "    \"lambda\": ContinuousParameter(0.01, 10, scaling_type=\"Logarithmic\"),\n",
    "    \"gamma\": ContinuousParameter(0.01, 10, scaling_type=\"Logarithmic\")\n",
    "}"
   ]
  },
  {
   "cell_type": "code",
   "execution_count": null,
   "id": "ae3dd007-dd58-412c-931f-b09d0861ac12",
   "metadata": {},
   "outputs": [],
   "source": []
  }
 ],
 "metadata": {
  "kernelspec": {
   "display_name": "Python 3 (ipykernel)",
   "language": "python",
   "name": "python3"
  },
  "language_info": {
   "codemirror_mode": {
    "name": "ipython",
    "version": 3
   },
   "file_extension": ".py",
   "mimetype": "text/x-python",
   "name": "python",
   "nbconvert_exporter": "python",
   "pygments_lexer": "ipython3",
   "version": "3.12.9"
  }
 },
 "nbformat": 4,
 "nbformat_minor": 5
}
